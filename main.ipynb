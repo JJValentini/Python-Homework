{
 "cells": [
  {
   "cell_type": "code",
   "execution_count": 12,
   "id": "82629258-7d3b-4ec0-ad8b-0b298986ba22",
   "metadata": {},
   "outputs": [],
   "source": [
    "import csv\n",
    "from pathlib import Path \n",
    "\n",
    "load_file = Path(\"Budget_data.csv\")\n",
    "output_file = Path(\"financial_analysis.txt\")\n",
    "\n",
    "months_total = 0\n",
    "monthly_change = []\n",
    "list_net_change = []\n",
    "highest_increase = [\"\", 0]\n",
    "highest_decrease = [\"\", 100000000000000000]\n",
    "net_total = 0\n",
    "\n",
    "with open(load_file) as financial_data:\n",
    "    reader = csv.reader(financial_data)\n",
    "    \n",
    "    header = next(reader)\n",
    "    \n",
    "    first_row = next(reader)\n",
    "    months_total = months_total + 1\n",
    "    net_total = net_total + int(first_row[1])\n",
    "    prev_net = int(first_row[1])\n",
    "    \n",
    "    for row in reader:\n",
    "        \n",
    "        months_total = months_total + 1\n",
    "        net_total = net_total + int(row[1])\n",
    "        \n",
    "        net_change = int(row[1]) - prev_net\n",
    "        prev_net = int(row[1])\n",
    "        list_net_change = list_net_change + [net_change]\n",
    "        monthly_change = monthly_change + [row[0]]\n",
    "        \n",
    "        if net_change > highest_increase[1]:\n",
    "            highest_increase[0] = row[0]\n",
    "            highest_increase[1] = net_change\n",
    "            \n",
    "        if net_change < highest_decrease[1]:\n",
    "            highest_decrease[0] = row[0]\n",
    "            highest_decrease[1] = net_change\n",
    "            \n",
    "monthly_average_net_change = round(sum(list_net_change) / len(list_net_change),2)\n",
    "\n",
    "with open(output_file, \"w\") as txt_file:\n",
    "    txt_file.write(f\"Financial Analysis\\n\")\n",
    "    txt_file.write(f\"---------------------------------\\n\")\n",
    "    txt_file.write(f\"Total Months: {months_total}\\n\")\n",
    "    txt_file.write(f\"Total: ${net_total}\\n\")\n",
    "    txt_file.write(f\"Average Change: ${monthly_average_net_change}\\n\")\n",
    "    txt_file.write(f\"Greatest Increase in Profits: {highest_increase[0]} (${highest_increase[1]})\\n\")\n",
    "    txt_file.write(f\"Greatest Decrease in Profits: {highest_decrease[0]} (${highest_decrease[1]})\\n\")\n",
    "    "
   ]
  },
  {
   "cell_type": "code",
   "execution_count": null,
   "id": "4af7e792-dc76-49f6-8b22-937c9dcfad02",
   "metadata": {},
   "outputs": [],
   "source": []
  }
 ],
 "metadata": {
  "kernelspec": {
   "display_name": "Python 3",
   "language": "python",
   "name": "python3"
  },
  "language_info": {
   "codemirror_mode": {
    "name": "ipython",
    "version": 3
   },
   "file_extension": ".py",
   "mimetype": "text/x-python",
   "name": "python",
   "nbconvert_exporter": "python",
   "pygments_lexer": "ipython3",
   "version": "3.8.5"
  }
 },
 "nbformat": 4,
 "nbformat_minor": 5
}
